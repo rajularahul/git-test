{
  "cells": [
    {
      "cell_type": "markdown",
      "metadata": {
        "id": "view-in-github",
        "colab_type": "text"
      },
      "source": [
        "<a href=\"https://colab.research.google.com/github/rajularahul/git-test/blob/main/05-Object%20Oriented%20Programming/02-Object%20Oriented%20Programming%20Homework.ipynb\" target=\"_parent\"><img src=\"https://colab.research.google.com/assets/colab-badge.svg\" alt=\"Open In Colab\"/></a>"
      ]
    },
    {
      "cell_type": "markdown",
      "metadata": {
        "id": "L-kb9VPJfCUn"
      },
      "source": [
        "___\n",
        "\n",
        "<a href='https://www.udemy.com/user/joseportilla/'><img src='https://github.com/Pierian-Data/Complete-Python-3-Bootcamp/blob/master/Pierian_Data_Logo.png?raw=1'/></a>\n",
        "___\n",
        "<center><em>Content Copyright by Pierian Data</em></center>"
      ]
    },
    {
      "cell_type": "markdown",
      "metadata": {
        "id": "-NHmSPGXfCUr"
      },
      "source": [
        "# Object Oriented Programming\n",
        "## Homework Assignment\n",
        "\n",
        "#### Problem 1\n",
        "Fill in the Line class methods to accept coordinates as a pair of tuples and return the slope and distance of the line."
      ]
    },
    {
      "cell_type": "code",
      "execution_count": 24,
      "metadata": {
        "collapsed": true,
        "id": "4CILGmZ7fCUs"
      },
      "outputs": [],
      "source": [
        "class Line:\n",
        "\n",
        "    def __init__(self,coor1,coor2):\n",
        "      self.coor1=coor1\n",
        "      self.coor2=coor2\n",
        "\n",
        "    def distance(self):\n",
        "      distance=((self.coor1[0]-self.coor2[0])**2+(self.coor1[1]-self.coor2[1])**2)**0.5\n",
        "      return distance\n",
        "\n",
        "    def slope(self):\n",
        "      return (self.coor2[1]-self.coor1[1])/(self.coor2[0]-self.coor1[0])"
      ]
    },
    {
      "cell_type": "code",
      "execution_count": 25,
      "metadata": {
        "collapsed": true,
        "id": "2ag0LpZsfCUu"
      },
      "outputs": [],
      "source": [
        "# EXAMPLE OUTPUT\n",
        "\n",
        "coordinate1 = (3,2)\n",
        "coordinate2 = (8,10)\n",
        "\n",
        "li = Line(coordinate1,coordinate2)"
      ]
    },
    {
      "cell_type": "code",
      "execution_count": 10,
      "metadata": {
        "id": "r0I2ALOyfCUu",
        "outputId": "e2c51a12-40a9-4b74-8577-b1fcc1b27cfb",
        "colab": {
          "base_uri": "https://localhost:8080/"
        }
      },
      "outputs": [
        {
          "output_type": "execute_result",
          "data": {
            "text/plain": [
              "9.433981132056603"
            ]
          },
          "metadata": {},
          "execution_count": 10
        }
      ],
      "source": [
        "li.distance()"
      ]
    },
    {
      "cell_type": "code",
      "execution_count": 26,
      "metadata": {
        "id": "X_XQzOeafCUw",
        "outputId": "60fde594-1325-4517-98e3-0783a11f69dd",
        "colab": {
          "base_uri": "https://localhost:8080/"
        }
      },
      "outputs": [
        {
          "output_type": "execute_result",
          "data": {
            "text/plain": [
              "1.6"
            ]
          },
          "metadata": {},
          "execution_count": 26
        }
      ],
      "source": [
        "li.slope()"
      ]
    },
    {
      "cell_type": "markdown",
      "metadata": {
        "id": "iC1LDu1zfCUx"
      },
      "source": [
        "________\n",
        "#### Problem 2"
      ]
    },
    {
      "cell_type": "markdown",
      "metadata": {
        "id": "gy6i37pufCUx"
      },
      "source": [
        "Fill in the class"
      ]
    },
    {
      "cell_type": "code",
      "execution_count": 28,
      "metadata": {
        "collapsed": true,
        "id": "gfejwz26fCUx"
      },
      "outputs": [],
      "source": [
        "class Cylinder:\n",
        "\n",
        "    def __init__(self,height=1,radius=1):\n",
        "        self.height=height\n",
        "        self.radius=radius\n",
        "\n",
        "    def volume(self):\n",
        "        return 3.14*self.radius**2*self.height\n",
        "\n",
        "    def surface_area(self):\n",
        "        return 2*3.14*self.radius*self.height+2*3.14*self.radius**2"
      ]
    },
    {
      "cell_type": "code",
      "execution_count": 29,
      "metadata": {
        "collapsed": true,
        "id": "yXtN1g2cfCUy"
      },
      "outputs": [],
      "source": [
        "# EXAMPLE OUTPUT\n",
        "c = Cylinder(2,3)"
      ]
    },
    {
      "cell_type": "code",
      "execution_count": 30,
      "metadata": {
        "id": "R2YDqFk9fCUz",
        "outputId": "f423574a-66bb-487e-d047-198c7b8ea5d3",
        "colab": {
          "base_uri": "https://localhost:8080/"
        }
      },
      "outputs": [
        {
          "output_type": "execute_result",
          "data": {
            "text/plain": [
              "56.52"
            ]
          },
          "metadata": {},
          "execution_count": 30
        }
      ],
      "source": [
        "c.volume()"
      ]
    },
    {
      "cell_type": "code",
      "execution_count": 31,
      "metadata": {
        "id": "KSmnTHhtfCUz",
        "outputId": "e9cfb394-1160-4ee2-fa06-b2d138e36cb7",
        "colab": {
          "base_uri": "https://localhost:8080/"
        }
      },
      "outputs": [
        {
          "output_type": "execute_result",
          "data": {
            "text/plain": [
              "94.2"
            ]
          },
          "metadata": {},
          "execution_count": 31
        }
      ],
      "source": [
        "c.surface_area()"
      ]
    }
  ],
  "metadata": {
    "kernelspec": {
      "display_name": "Python 3",
      "language": "python",
      "name": "python3"
    },
    "language_info": {
      "codemirror_mode": {
        "name": "ipython",
        "version": 3
      },
      "file_extension": ".py",
      "mimetype": "text/x-python",
      "name": "python",
      "nbconvert_exporter": "python",
      "pygments_lexer": "ipython3",
      "version": "3.6.6"
    },
    "colab": {
      "provenance": [],
      "include_colab_link": true
    }
  },
  "nbformat": 4,
  "nbformat_minor": 0
}