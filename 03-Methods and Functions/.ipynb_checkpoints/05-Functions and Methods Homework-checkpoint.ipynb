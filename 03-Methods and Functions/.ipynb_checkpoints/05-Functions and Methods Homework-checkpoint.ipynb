{
  "cells": [
    {
      "cell_type": "markdown",
      "metadata": {
        "id": "view-in-github",
        "colab_type": "text"
      },
      "source": [
        "<a href=\"https://colab.research.google.com/github/rajularahul/git-test/blob/main/03-Methods%20and%20Functions/.ipynb_checkpoints/05-Functions%20and%20Methods%20Homework-checkpoint.ipynb\" target=\"_parent\"><img src=\"https://colab.research.google.com/assets/colab-badge.svg\" alt=\"Open In Colab\"/></a>"
      ]
    },
    {
      "cell_type": "markdown",
      "metadata": {
        "id": "qIfYT-8Ud9cH"
      },
      "source": [
        "# Functions and Methods Homework\n",
        "\n",
        "Complete the following questions:\n",
        "____\n",
        "**Write a function that computes the volume of a sphere given its radius.**\n",
        "<p>The volume of a sphere is given as $$\\frac{4}{3} πr^3$$</p>"
      ]
    },
    {
      "cell_type": "code",
      "execution_count": 4,
      "metadata": {
        "id": "5XwFZCKJd9cP"
      },
      "outputs": [],
      "source": [
        "import math\n",
        "def vol(rad):\n",
        "    return (4/3)*math.pi*rad**3"
      ]
    },
    {
      "cell_type": "code",
      "execution_count": 5,
      "metadata": {
        "id": "U5KXLxb5d9cS",
        "outputId": "91c67b4c-c0fd-4646-ad1a-340aea498a8c",
        "colab": {
          "base_uri": "https://localhost:8080/"
        }
      },
      "outputs": [
        {
          "output_type": "execute_result",
          "data": {
            "text/plain": [
              "33.510321638291124"
            ]
          },
          "metadata": {},
          "execution_count": 5
        }
      ],
      "source": [
        "# Check\n",
        "vol(2)"
      ]
    },
    {
      "cell_type": "markdown",
      "metadata": {
        "id": "bnjrPlkfd9cU"
      },
      "source": [
        "___\n",
        "**Write a function that checks whether a number is in a given range (inclusive of high and low)**"
      ]
    },
    {
      "cell_type": "code",
      "execution_count": 6,
      "metadata": {
        "id": "X3HpuQjMd9cV"
      },
      "outputs": [],
      "source": [
        "def ran_check(num,low,high):\n",
        "  if(low<num<high):\n",
        "    return f'{num} is in the range between {low} and {high}'\n",
        "  else:\n",
        "    return f'{num} is not in the range between {low} and {high}'"
      ]
    },
    {
      "cell_type": "code",
      "execution_count": 7,
      "metadata": {
        "id": "dYw9CDZRd9cW",
        "outputId": "7fdcef25-fc9d-42d7-ab47-fef08f82546b",
        "colab": {
          "base_uri": "https://localhost:8080/",
          "height": 35
        }
      },
      "outputs": [
        {
          "output_type": "execute_result",
          "data": {
            "text/plain": [
              "'5 is in the range between 2 and 7'"
            ],
            "application/vnd.google.colaboratory.intrinsic+json": {
              "type": "string"
            }
          },
          "metadata": {},
          "execution_count": 7
        }
      ],
      "source": [
        "# Check\n",
        "ran_check(5,2,7)"
      ]
    },
    {
      "cell_type": "markdown",
      "metadata": {
        "id": "nuubBKIad9cX"
      },
      "source": [
        "If you only wanted to return a boolean:"
      ]
    },
    {
      "cell_type": "code",
      "execution_count": 8,
      "metadata": {
        "id": "FauueOVLd9cY"
      },
      "outputs": [],
      "source": [
        "def ran_bool(num,low,high):\n",
        "    if(low<num<high):\n",
        "      return True\n",
        "    else:\n",
        "      return False"
      ]
    },
    {
      "cell_type": "code",
      "execution_count": 9,
      "metadata": {
        "id": "fPa1pmvid9cZ",
        "outputId": "4ef8482b-46bc-4c72-b95e-c99cc633792b",
        "colab": {
          "base_uri": "https://localhost:8080/"
        }
      },
      "outputs": [
        {
          "output_type": "execute_result",
          "data": {
            "text/plain": [
              "True"
            ]
          },
          "metadata": {},
          "execution_count": 9
        }
      ],
      "source": [
        "ran_bool(3,1,10)"
      ]
    },
    {
      "cell_type": "markdown",
      "metadata": {
        "id": "AI_nuj0Jd9ca"
      },
      "source": [
        "____\n",
        "**Write a Python function that accepts a string and calculates the number of upper case letters and lower case letters.**\n",
        "\n",
        "    Sample String : 'Hello Mr. Rogers, how are you this fine Tuesday?'\n",
        "    Expected Output :\n",
        "    No. of Upper case characters : 4\n",
        "    No. of Lower case Characters : 33\n",
        "\n",
        "HINT: Two string methods that might prove useful: **.isupper()** and **.islower()**\n",
        "\n",
        "If you feel ambitious, explore the Collections module to solve this problem!"
      ]
    },
    {
      "cell_type": "code",
      "execution_count": 26,
      "metadata": {
        "id": "hR1-r4t0d9ca"
      },
      "outputs": [],
      "source": [
        "def up_low(s):\n",
        "    count_upper = 0\n",
        "    count_lower = 0\n",
        "    for word in s.split():\n",
        "      #print(word)\n",
        "      for letter in word:\n",
        "        #print(letter)\n",
        "        if(letter.isupper()):\n",
        "          #print(letter)\n",
        "          count_upper+=1\n",
        "        if(letter.islower()):\n",
        "          #print(letter)\n",
        "          count_lower+=1\n",
        "\n",
        "    print(f'No. of Upper case characters : {count_upper}')\n",
        "    print(f'No. of Lower case characters : {count_lower}')"
      ]
    },
    {
      "cell_type": "code",
      "execution_count": 27,
      "metadata": {
        "id": "OczCR4MWd9cb",
        "outputId": "1e8bd3ca-a935-4b10-9b3a-330da337d8ec",
        "colab": {
          "base_uri": "https://localhost:8080/"
        }
      },
      "outputs": [
        {
          "output_type": "stream",
          "name": "stdout",
          "text": [
            "No. of Upper case characters : 4\n",
            "No. of Lower case characters : 33\n"
          ]
        }
      ],
      "source": [
        "s = 'Hello Mr. Rogers, how are you this fine Tuesday?'\n",
        "up_low(s)"
      ]
    },
    {
      "cell_type": "markdown",
      "metadata": {
        "id": "x4AoXZ65d9cc"
      },
      "source": [
        "____\n",
        "**Write a Python function that takes a list and returns a new list with unique elements of the first list.**\n",
        "\n",
        "    Sample List : [1,1,1,1,2,2,3,3,3,3,4,5]\n",
        "    Unique List : [1, 2, 3, 4, 5]"
      ]
    },
    {
      "cell_type": "code",
      "execution_count": 28,
      "metadata": {
        "id": "kA2BR3Z-d9cd"
      },
      "outputs": [],
      "source": [
        "def unique_list(lst):\n",
        "    set_list = set(lst)\n",
        "    return list(set_list)"
      ]
    },
    {
      "cell_type": "code",
      "execution_count": 29,
      "metadata": {
        "id": "RQBHufZvd9cd",
        "outputId": "162de801-6468-4c0d-c394-e212aba04605",
        "colab": {
          "base_uri": "https://localhost:8080/"
        }
      },
      "outputs": [
        {
          "output_type": "execute_result",
          "data": {
            "text/plain": [
              "[1, 2, 3, 4, 5]"
            ]
          },
          "metadata": {},
          "execution_count": 29
        }
      ],
      "source": [
        "unique_list([1,1,1,1,2,2,3,3,3,3,4,5])"
      ]
    },
    {
      "cell_type": "markdown",
      "metadata": {
        "id": "V5eK7r2od9ce"
      },
      "source": [
        "____\n",
        "**Write a Python function to multiply all the numbers in a list.**\n",
        "\n",
        "    Sample List : [1, 2, 3, -4]\n",
        "    Expected Output : -24"
      ]
    },
    {
      "cell_type": "code",
      "execution_count": 36,
      "metadata": {
        "id": "rquL6ucwd9ce"
      },
      "outputs": [],
      "source": [
        "import math\n",
        "def multiply(numbers):\n",
        "    count=1\n",
        "    for num in numbers:\n",
        "      count*=num\n",
        "    return count"
      ]
    },
    {
      "cell_type": "code",
      "execution_count": 37,
      "metadata": {
        "id": "l0ZK2CVzd9cf",
        "outputId": "923df416-1478-4d8d-b212-751a199dd911",
        "colab": {
          "base_uri": "https://localhost:8080/"
        }
      },
      "outputs": [
        {
          "output_type": "execute_result",
          "data": {
            "text/plain": [
              "-24"
            ]
          },
          "metadata": {},
          "execution_count": 37
        }
      ],
      "source": [
        "multiply([1,2,3,-4])"
      ]
    },
    {
      "cell_type": "markdown",
      "metadata": {
        "id": "gbZZnCB2d9cf"
      },
      "source": [
        "____\n",
        "**Write a Python function that checks whether a passed in string is palindrome or not.**\n",
        "\n",
        "Note: A palindrome is word, phrase, or sequence that reads the same backward as forward, e.g., madam or nurses run."
      ]
    },
    {
      "cell_type": "code",
      "execution_count": 38,
      "metadata": {
        "id": "3-cn237dd9cf"
      },
      "outputs": [],
      "source": [
        "def palindrome(s):\n",
        "    if(s==s[::-1]):\n",
        "      return True\n",
        "    else:\n",
        "      return False"
      ]
    },
    {
      "cell_type": "code",
      "execution_count": 39,
      "metadata": {
        "id": "8ho0UnMed9cg",
        "outputId": "cd5f1b6c-29cd-4d79-a753-12c6778521a4",
        "colab": {
          "base_uri": "https://localhost:8080/"
        }
      },
      "outputs": [
        {
          "output_type": "execute_result",
          "data": {
            "text/plain": [
              "True"
            ]
          },
          "metadata": {},
          "execution_count": 39
        }
      ],
      "source": [
        "palindrome('helleh')"
      ]
    },
    {
      "cell_type": "markdown",
      "metadata": {
        "id": "BYmLGj_ed9cg"
      },
      "source": [
        "____\n",
        "#### Hard:\n",
        "\n",
        "**Write a Python function to check whether a string is pangram or not.**\n",
        "\n",
        "    Note : Pangrams are words or sentences containing every letter of the alphabet at least once.\n",
        "    For example : \"The quick brown fox jumps over the lazy dog\"\n",
        "\n",
        "Hint: Look at the string module"
      ]
    },
    {
      "cell_type": "code",
      "execution_count": 40,
      "metadata": {
        "id": "G3l3BaSDd9cg"
      },
      "outputs": [],
      "source": [
        "import string\n",
        "\n",
        "def ispangram(str1, alphabet=string.ascii_lowercase):\n",
        "    for letter in alphabet:\n",
        "      if(letter not in str1):\n",
        "        return False\n",
        "    return True"
      ]
    },
    {
      "cell_type": "code",
      "execution_count": 41,
      "metadata": {
        "id": "xbpfKv08d9ch",
        "outputId": "6b962b98-d97d-4b85-c420-15a07de962d5",
        "colab": {
          "base_uri": "https://localhost:8080/"
        }
      },
      "outputs": [
        {
          "output_type": "execute_result",
          "data": {
            "text/plain": [
              "True"
            ]
          },
          "metadata": {},
          "execution_count": 41
        }
      ],
      "source": [
        "ispangram(\"The quick brown fox jumps over the lazy dog\")"
      ]
    },
    {
      "cell_type": "code",
      "execution_count": null,
      "metadata": {
        "id": "OuZXRKTAd9ch",
        "outputId": "04d6723d-db02-4253-db3a-5d7aa9c0b027"
      },
      "outputs": [
        {
          "data": {
            "text/plain": [
              "'abcdefghijklmnopqrstuvwxyz'"
            ]
          },
          "execution_count": 17,
          "metadata": {},
          "output_type": "execute_result"
        }
      ],
      "source": [
        "string.ascii_lowercase"
      ]
    },
    {
      "cell_type": "markdown",
      "metadata": {
        "collapsed": true,
        "id": "y9tcQbXWd9ci"
      },
      "source": [
        "#### Great Job!"
      ]
    }
  ],
  "metadata": {
    "kernelspec": {
      "display_name": "Python 3",
      "language": "python",
      "name": "python3"
    },
    "language_info": {
      "codemirror_mode": {
        "name": "ipython",
        "version": 3
      },
      "file_extension": ".py",
      "mimetype": "text/x-python",
      "name": "python",
      "nbconvert_exporter": "python",
      "pygments_lexer": "ipython3",
      "version": "3.6.2"
    },
    "colab": {
      "provenance": [],
      "include_colab_link": true
    }
  },
  "nbformat": 4,
  "nbformat_minor": 0
}