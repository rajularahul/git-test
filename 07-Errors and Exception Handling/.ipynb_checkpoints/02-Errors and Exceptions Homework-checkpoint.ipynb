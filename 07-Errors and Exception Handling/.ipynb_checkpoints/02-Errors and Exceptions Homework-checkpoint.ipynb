{
  "cells": [
    {
      "cell_type": "markdown",
      "metadata": {
        "id": "view-in-github",
        "colab_type": "text"
      },
      "source": [
        "<a href=\"https://colab.research.google.com/github/rajularahul/git-test/blob/main/07-Errors%20and%20Exception%20Handling/.ipynb_checkpoints/02-Errors%20and%20Exceptions%20Homework-checkpoint.ipynb\" target=\"_parent\"><img src=\"https://colab.research.google.com/assets/colab-badge.svg\" alt=\"Open In Colab\"/></a>"
      ]
    },
    {
      "cell_type": "markdown",
      "metadata": {
        "id": "rCs8hc_v0ghW"
      },
      "source": [
        "___\n",
        "\n",
        "<a href='https://www.udemy.com/user/joseportilla/'><img src='https://github.com/Pierian-Data/Complete-Python-3-Bootcamp/blob/master/07-Errors%20and%20Exception%20Handling/Pierian_Data_Logo.png?raw=1'/></a>\n",
        "___\n",
        "<center><em>Content Copyright by Pierian Data</em></center>"
      ]
    },
    {
      "cell_type": "markdown",
      "metadata": {
        "id": "QXJHPxdw0gha"
      },
      "source": [
        "# Errors and Exceptions Homework"
      ]
    },
    {
      "cell_type": "markdown",
      "metadata": {
        "id": "-TgKWqVY0gha"
      },
      "source": [
        "### Problem 1\n",
        "Handle the exception thrown by the code below by using <code>try</code> and <code>except</code> blocks."
      ]
    },
    {
      "cell_type": "code",
      "execution_count": 2,
      "metadata": {
        "id": "b8IYedF70ghb",
        "outputId": "e1cf9464-ea7d-40f1-a867-baf23f0602eb",
        "colab": {
          "base_uri": "https://localhost:8080/"
        }
      },
      "outputs": [
        {
          "output_type": "stream",
          "name": "stdout",
          "text": [
            "An error occurred!\n"
          ]
        }
      ],
      "source": [
        "try:\n",
        "  for i in ['a','b','c']:\n",
        "      print(i**2)\n",
        "except:\n",
        "  print(\"An error occurred!\")"
      ]
    },
    {
      "cell_type": "markdown",
      "metadata": {
        "id": "lyXZhId_0ghd"
      },
      "source": [
        "### Problem 2\n",
        "Handle the exception thrown by the code below by using <code>try</code> and <code>except</code> blocks. Then use a <code>finally</code> block to print 'All Done.'"
      ]
    },
    {
      "cell_type": "code",
      "execution_count": 3,
      "metadata": {
        "id": "pbwkpYOo0ghd",
        "outputId": "7223b2da-3bd3-4bac-9686-67545ceed122",
        "colab": {
          "base_uri": "https://localhost:8080/"
        }
      },
      "outputs": [
        {
          "output_type": "stream",
          "name": "stdout",
          "text": [
            "An error occurred!\n",
            "All Done.\n"
          ]
        }
      ],
      "source": [
        "try:\n",
        "  x = 5\n",
        "  y = 0\n",
        "\n",
        "  z = x/y\n",
        "  #print(z)\n",
        "except:\n",
        "  print(\"An error occurred!\")\n",
        "finally:\n",
        "  print(\"All Done.\")"
      ]
    },
    {
      "cell_type": "markdown",
      "metadata": {
        "id": "zOD-_-dO0ghe"
      },
      "source": [
        "### Problem 3\n",
        "Write a function that asks for an integer and prints the square of it. Use a <code>while</code> loop with a <code>try</code>, <code>except</code>, <code>else</code> block to account for incorrect inputs."
      ]
    },
    {
      "cell_type": "code",
      "execution_count": 5,
      "metadata": {
        "collapsed": true,
        "id": "CEmjpctf0ghe"
      },
      "outputs": [],
      "source": [
        "def ask():\n",
        "    while True:\n",
        "      try:\n",
        "        num = int(input(\"Input an integer: \"))\n",
        "      except:\n",
        "        print(\"An error occurred! Please try again!\")\n",
        "        continue\n",
        "      else:\n",
        "        print(f\"Thank you, your number squared is:  {num**2}\")\n",
        "        break"
      ]
    },
    {
      "cell_type": "code",
      "execution_count": 7,
      "metadata": {
        "id": "HV-ebUQH0ghf",
        "outputId": "3fc93841-8dbd-46c1-fefe-d09e3f32d473",
        "colab": {
          "base_uri": "https://localhost:8080/"
        }
      },
      "outputs": [
        {
          "output_type": "stream",
          "name": "stdout",
          "text": [
            "Input an integer: k\n",
            "An error occurred! Please try again!\n",
            "Input an integer: 55\n",
            "Thank you, your number squared is:  3025\n"
          ]
        }
      ],
      "source": [
        "ask()"
      ]
    },
    {
      "cell_type": "markdown",
      "metadata": {
        "id": "e1PzqCEr0ghf"
      },
      "source": [
        "# Great Job!"
      ]
    }
  ],
  "metadata": {
    "kernelspec": {
      "display_name": "Python 3",
      "language": "python",
      "name": "python3"
    },
    "language_info": {
      "codemirror_mode": {
        "name": "ipython",
        "version": 3
      },
      "file_extension": ".py",
      "mimetype": "text/x-python",
      "name": "python",
      "nbconvert_exporter": "python",
      "pygments_lexer": "ipython3",
      "version": "3.6.6"
    },
    "colab": {
      "provenance": [],
      "include_colab_link": true
    }
  },
  "nbformat": 4,
  "nbformat_minor": 0
}